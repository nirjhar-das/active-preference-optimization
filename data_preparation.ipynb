{
 "cells": [
  {
   "cell_type": "code",
   "execution_count": 1,
   "metadata": {},
   "outputs": [
    {
     "name": "stderr",
     "output_type": "stream",
     "text": [
      "/home/t-dasnirjhar/anaconda3/envs/trl/lib/python3.12/site-packages/tqdm/auto.py:21: TqdmWarning: IProgress not found. Please update jupyter and ipywidgets. See https://ipywidgets.readthedocs.io/en/stable/user_install.html\n",
      "  from .autonotebook import tqdm as notebook_tqdm\n"
     ]
    }
   ],
   "source": [
    "from transformers import AutoTokenizer\n",
    "from datasets import load_dataset\n",
    "import pandas as pd\n",
    "from sklearn.model_selection import train_test_split\n",
    "from tqdm import tqdm\n",
    "import matplotlib.pyplot as plt\n",
    "import seaborn as sns\n",
    "\n",
    "from scripts.embedding_extraction import create_model_and_tokenizer, get_dataset_for_rlhf, save_embeddings\n",
    "from scripts.model_evaluation import load_true_reward_model"
   ]
  },
  {
   "cell_type": "code",
   "execution_count": 12,
   "metadata": {},
   "outputs": [
    {
     "name": "stderr",
     "output_type": "stream",
     "text": [
      "/home/t-dasnirjhar/anaconda3/envs/trl/lib/python3.12/site-packages/huggingface_hub/file_download.py:1132: FutureWarning: `resume_download` is deprecated and will be removed in version 1.0.0. Downloads always resume when possible. If you want to force a new download, use `force_download=True`.\n",
      "  warnings.warn(\n"
     ]
    }
   ],
   "source": [
    "\n",
    "tokenizer = AutoTokenizer.from_pretrained(\"google/gemma-2b-it\")"
   ]
  },
  {
   "cell_type": "markdown",
   "metadata": {},
   "source": [
    "### Ultrafeedback + Gemma"
   ]
  },
  {
   "cell_type": "markdown",
   "metadata": {},
   "source": [
    "#### Dataset Creation"
   ]
  },
  {
   "cell_type": "code",
   "execution_count": 3,
   "metadata": {},
   "outputs": [
    {
     "name": "stderr",
     "output_type": "stream",
     "text": [
      "Downloading readme: 100%|██████████| 4.46k/4.46k [00:00<00:00, 25.3MB/s]\n",
      "Downloading data: 100%|██████████| 143M/143M [00:01<00:00, 86.2MB/s] \n",
      "Generating train split: 100%|██████████| 60917/60917 [00:01<00:00, 39927.80 examples/s]\n"
     ]
    }
   ],
   "source": [
    "dataset = load_dataset(\"argilla/ultrafeedback-binarized-preferences-cleaned\")"
   ]
  },
  {
   "cell_type": "code",
   "execution_count": 4,
   "metadata": {},
   "outputs": [
    {
     "name": "stderr",
     "output_type": "stream",
     "text": [
      "100%|██████████| 60917/60917 [00:23<00:00, 2539.88it/s]\n"
     ]
    }
   ],
   "source": [
    "data_dict = {'query' : [], 'chosen' : [], 'rejected' : []}\n",
    "for i in tqdm(range(len(dataset['train']))):\n",
    "    data_dict['query'].append(tokenizer.apply_chat_template([{'role': 'user', 'content' : dataset['train'][i]['prompt']}], tokenize=False, add_generation_prompt=True))\n",
    "    data_dict['chosen'].append(tokenizer.apply_chat_template(dataset['train'][i]['chosen'], tokenize=False))\n",
    "    data_dict['rejected'].append(tokenizer.apply_chat_template(dataset['train'][i]['rejected'], tokenize=False))\n",
    "\n",
    "df = pd.DataFrame(data_dict)\n",
    "\n",
    "df_train, df_test = train_test_split(df, test_size=0.2, random_state=40981, shuffle=True)\n",
    "df_train.drop(df_train.index[2708], inplace=True) # Problem row (some csv issue)"
   ]
  },
  {
   "cell_type": "code",
   "execution_count": 5,
   "metadata": {},
   "outputs": [],
   "source": [
    "df_train.to_csv('./datasets/ultrafeedback_train.csv.gz', compression='gzip', index=False)\n",
    "df_test.to_csv('./datasets/ultrafeedback_test.csv.gz', compression='gzip', index=False)"
   ]
  },
  {
   "cell_type": "code",
   "execution_count": 6,
   "metadata": {},
   "outputs": [],
   "source": [
    "df_train_small = df_train.sample(n=10000, random_state=987132)\n",
    "df_test_small = df_test.sample(n=4000, random_state=287043)\n",
    "\n",
    "df_train_small.to_csv('./datasets/ultrafeedback_train_small.csv.gz', compression='gzip', index=False)\n",
    "df_test_small.to_csv('./datasets/ultrafeedback_test_small.csv.gz', compression='gzip', index=False)"
   ]
  },
  {
   "cell_type": "markdown",
   "metadata": {},
   "source": [
    "#### Embedding extraction"
   ]
  },
  {
   "cell_type": "code",
   "execution_count": 7,
   "metadata": {},
   "outputs": [],
   "source": [
    "model_name = 'Gemma'\n",
    "dataset_name = 'UltraFeedback'\n",
    "output_folder = './output'\n",
    "small = True"
   ]
  },
  {
   "cell_type": "code",
   "execution_count": 8,
   "metadata": {},
   "outputs": [
    {
     "name": "stderr",
     "output_type": "stream",
     "text": [
      "/home/t-dasnirjhar/anaconda3/envs/trl/lib/python3.12/site-packages/huggingface_hub/file_download.py:1132: FutureWarning: `resume_download` is deprecated and will be removed in version 1.0.0. Downloads always resume when possible. If you want to force a new download, use `force_download=True`.\n",
      "  warnings.warn(\n",
      "/home/t-dasnirjhar/anaconda3/envs/trl/lib/python3.12/site-packages/huggingface_hub/file_download.py:1132: FutureWarning: `resume_download` is deprecated and will be removed in version 1.0.0. Downloads always resume when possible. If you want to force a new download, use `force_download=True`.\n",
      "  warnings.warn(\n",
      "Downloading shards: 100%|██████████| 2/2 [03:53<00:00, 116.58s/it]\n",
      "Gemma's activation function should be approximate GeLU and not exact GeLU.\n",
      "Changing the activation function to `gelu_pytorch_tanh`.if you want to use the legacy `gelu`, edit the `model.config` to set `hidden_activation=gelu`   instead of `hidden_act`. See https://github.com/huggingface/transformers/pull/29402 for more details.\n",
      "Loading checkpoint shards: 100%|██████████| 2/2 [00:01<00:00,  1.61it/s]\n",
      "Some weights of GemmaForSequenceClassification were not initialized from the model checkpoint at Columbia-NLP/gemma-2b-zephyr-sft and are newly initialized: ['score.weight']\n",
      "You should probably TRAIN this model on a down-stream task to be able to use it for predictions and inference.\n",
      "  3%|▎         | 10/313 [00:22<11:01,  2.18s/it]Token indices sequence length is longer than the specified maximum sequence length for this model (2144 > 2048). Running this sequence through the model will result in indexing errors\n",
      "100%|██████████| 313/313 [14:54<00:00,  2.86s/it]\n"
     ]
    }
   ],
   "source": [
    "model, tokenizer = create_model_and_tokenizer(model_name)\n",
    "text_chosen, text_rejected, n = get_dataset_for_rlhf(dataset_name, small)\n",
    "\n",
    "save_embeddings(model, tokenizer, dataset_name, model_name, text_chosen, text_rejected, n, output_folder, small)\n",
    "\n",
    "del model\n",
    "del tokenizer\n",
    "del text_chosen\n",
    "del text_rejected"
   ]
  },
  {
   "cell_type": "markdown",
   "metadata": {},
   "source": [
    "### Anthropic + Gemma"
   ]
  },
  {
   "cell_type": "markdown",
   "metadata": {},
   "source": [
    "#### Dataset Creation"
   ]
  },
  {
   "cell_type": "code",
   "execution_count": null,
   "metadata": {},
   "outputs": [],
   "source": [
    "\n",
    "tokenizer = AutoTokenizer.from_pretrained(\"google/gemma-2b-it\")"
   ]
  },
  {
   "cell_type": "code",
   "execution_count": 13,
   "metadata": {},
   "outputs": [],
   "source": [
    "dataset = load_dataset('llm-blender/Unified-Feedback', 'hh-rlhf')"
   ]
  },
  {
   "cell_type": "code",
   "execution_count": 14,
   "metadata": {},
   "outputs": [],
   "source": [
    "def func(a, b):\n",
    "    if (a not in [0, 1]) or (b not in [0, 1]):\n",
    "        return False\n",
    "    else:\n",
    "        return bool(a) ^ bool(b)"
   ]
  },
  {
   "cell_type": "code",
   "execution_count": 15,
   "metadata": {},
   "outputs": [
    {
     "name": "stderr",
     "output_type": "stream",
     "text": [
      "  1%|          | 412/48278 [00:00<00:23, 2062.66it/s]"
     ]
    },
    {
     "name": "stderr",
     "output_type": "stream",
     "text": [
      "100%|██████████| 48278/48278 [00:25<00:00, 1894.52it/s]\n"
     ]
    }
   ],
   "source": [
    "base_ds = dataset['train'].filter(lambda x: (x['num_turns'] == 1) and (func(x['conv_A_rating'], x['conv_B_rating'])))\n",
    "\n",
    "data_dict = {'query' : [], 'chosen' : [], 'rejected' : []}\n",
    "\n",
    "for i in tqdm(range(len(base_ds))):\n",
    "    data_dict['query'].append(tokenizer.apply_chat_template([base_ds[i]['conv_A'][0]], tokenize=False, add_generation_prompt=True))\n",
    "    if base_ds[i]['conv_A_rating'] == 1:\n",
    "        data_dict['chosen'].append(tokenizer.apply_chat_template(base_ds[i]['conv_A'], tokenize=False))\n",
    "        data_dict['rejected'].append(tokenizer.apply_chat_template(base_ds[i]['conv_B'], tokenize=False))\n",
    "    else:\n",
    "        data_dict['rejected'].append(tokenizer.apply_chat_template(base_ds[i]['conv_A'], tokenize=False))\n",
    "        data_dict['chosen'].append(tokenizer.apply_chat_template(base_ds[i]['conv_B'], tokenize=False))"
   ]
  },
  {
   "cell_type": "code",
   "execution_count": 16,
   "metadata": {},
   "outputs": [],
   "source": [
    "df = pd.DataFrame(data_dict)\n",
    "\n",
    "df_train, df_test = train_test_split(df, test_size=0.2, random_state=40981, shuffle=True)"
   ]
  },
  {
   "cell_type": "code",
   "execution_count": 17,
   "metadata": {},
   "outputs": [],
   "source": [
    "df_train.to_csv('./datasets/anthropic_train.csv.gz', compression='gzip', index=False)\n",
    "df_test.to_csv('./datasets/anthropic_test.csv.gz', compression='gzip', index=False)"
   ]
  },
  {
   "cell_type": "markdown",
   "metadata": {},
   "source": [
    "##### Hard Subset"
   ]
  },
  {
   "cell_type": "code",
   "execution_count": 2,
   "metadata": {},
   "outputs": [
    {
     "name": "stderr",
     "output_type": "stream",
     "text": [
      "/home/t-dasnirjhar/anaconda3/envs/trl/lib/python3.12/site-packages/huggingface_hub/file_download.py:1132: FutureWarning: `resume_download` is deprecated and will be removed in version 1.0.0. Downloads always resume when possible. If you want to force a new download, use `force_download=True`.\n",
      "  warnings.warn(\n",
      "You set `add_prefix_space`. The tokenizer needs to be converted from the slow tokenizers\n"
     ]
    }
   ],
   "source": [
    "dataset = load_dataset('llm-blender/Unified-Feedback', 'hh-rlhf')\n",
    "tokenizer = AutoTokenizer.from_pretrained('Ray2333/reward-model-Mistral-7B-instruct-Unified-Feedback')"
   ]
  },
  {
   "cell_type": "code",
   "execution_count": 3,
   "metadata": {},
   "outputs": [],
   "source": [
    "def func(a, b):\n",
    "    if (a not in [0, 1]) or (b not in [0, 1]):\n",
    "        return False\n",
    "    else:\n",
    "        return bool(a) ^ bool(b)"
   ]
  },
  {
   "cell_type": "code",
   "execution_count": 4,
   "metadata": {},
   "outputs": [
    {
     "name": "stderr",
     "output_type": "stream",
     "text": [
      "100%|██████████| 48278/48278 [00:29<00:00, 1639.78it/s]\n"
     ]
    }
   ],
   "source": [
    "base_ds = dataset['train'].filter(lambda x: (x['num_turns'] == 1) and (func(x['conv_A_rating'], x['conv_B_rating'])))\n",
    "\n",
    "data_dict = {'query' : [], 'chosen' : [], 'rejected' : []}\n",
    "\n",
    "for i in tqdm(range(len(base_ds))):\n",
    "    data_dict['query'].append(tokenizer.apply_chat_template([base_ds[i]['conv_A'][0]], tokenize=False, add_generation_prompt=True))\n",
    "    if base_ds[i]['conv_A_rating'] == 1:\n",
    "        data_dict['chosen'].append(tokenizer.apply_chat_template(base_ds[i]['conv_A'], tokenize=False))\n",
    "        data_dict['rejected'].append(tokenizer.apply_chat_template(base_ds[i]['conv_B'], tokenize=False))\n",
    "    else:\n",
    "        data_dict['rejected'].append(tokenizer.apply_chat_template(base_ds[i]['conv_A'], tokenize=False))\n",
    "        data_dict['chosen'].append(tokenizer.apply_chat_template(base_ds[i]['conv_B'], tokenize=False))"
   ]
  },
  {
   "cell_type": "code",
   "execution_count": 5,
   "metadata": {},
   "outputs": [
    {
     "name": "stderr",
     "output_type": "stream",
     "text": [
      "Loading checkpoint shards: 100%|██████████| 3/3 [00:02<00:00,  1.11it/s]\n"
     ]
    }
   ],
   "source": [
    "reward_pipeline = load_true_reward_model('Gemma', 'Anthropic')"
   ]
  },
  {
   "cell_type": "code",
   "execution_count": 6,
   "metadata": {},
   "outputs": [],
   "source": [
    "df = pd.DataFrame(data_dict)\n",
    "\n",
    "df_train, df_test = train_test_split(df, test_size=0.2, random_state=40981, shuffle=True)\n",
    "df_train_sub, _ = train_test_split(df_train, test_size=0.5, random_state=82439, shuffle=True)"
   ]
  },
  {
   "cell_type": "code",
   "execution_count": 7,
   "metadata": {},
   "outputs": [
    {
     "name": "stderr",
     "output_type": "stream",
     "text": [
      "100%|██████████| 603/603 [15:43<00:00,  1.56s/it]\n",
      "100%|██████████| 603/603 [15:47<00:00,  1.57s/it]\n"
     ]
    }
   ],
   "source": [
    "kwargs = {\"padding\": 'max_length', \"truncation\": True, \"return_tensors\": \"pt\", 'max_length': 500}\n",
    "rewards_chosen = reward_pipeline(df_train_sub['query'], list(df_train_sub['chosen']), kwargs)\n",
    "rewards_rejected = reward_pipeline(df_train_sub['query'], list(df_train_sub['rejected']), kwargs)"
   ]
  },
  {
   "cell_type": "code",
   "execution_count": 20,
   "metadata": {},
   "outputs": [
    {
     "data": {
      "image/png": "[encoded data removed]",
      "text/plain": [
       "<Figure size 640x480 with 1 Axes>"
      ]
     },
     "metadata": {},
     "output_type": "display_data"
    }
   ],
   "source": [
    "plt.hist([r.numpy() for r in rewards_chosen], alpha=0.6, label='chosen', bins=50)\n",
    "plt.hist([r.numpy() for r in rewards_rejected], alpha=0.6, label='rejected', bins=50)\n",
    "plt.legend()\n",
    "plt.show()"
   ]
  },
  {
   "cell_type": "code",
   "execution_count": 11,
   "metadata": {},
   "outputs": [],
   "source": [
    "df_train_sub_new = df_train_sub.drop(df_train_sub.tail(15).index)\n",
    "df_train_sub_new['chosen_rewards'] = [r.numpy() for r in rewards_chosen]\n",
    "df_train_sub_new['rejected_rewards'] = [r.numpy() for r in rewards_rejected]"
   ]
  },
  {
   "cell_type": "code",
   "execution_count": 12,
   "metadata": {},
   "outputs": [
    {
     "data": {
      "text/html": [
       "<div>\n",
       "<style scoped>\n",
       "    .dataframe tbody tr th:only-of-type {\n",
       "        vertical-align: middle;\n",
       "    }\n",
       "\n",
       "    .dataframe tbody tr th {\n",
       "        vertical-align: top;\n",
       "    }\n",
       "\n",
       "    .dataframe thead th {\n",
       "        text-align: right;\n",
       "    }\n",
       "</style>\n",
       "<table border=\"1\" class=\"dataframe\">\n",
       "  <thead>\n",
       "    <tr style=\"text-align: right;\">\n",
       "      <th></th>\n",
       "      <th>query</th>\n",
       "      <th>chosen</th>\n",
       "      <th>rejected</th>\n",
       "      <th>chosen_rewards</th>\n",
       "      <th>rejected_rewards</th>\n",
       "    </tr>\n",
       "  </thead>\n",
       "  <tbody>\n",
       "    <tr>\n",
       "      <th>33467</th>\n",
       "      <td>&lt;s&gt;[INST] What caused the Gold Rush in the US ...</td>\n",
       "      <td>&lt;s&gt;[INST] What caused the Gold Rush in the US ...</td>\n",
       "      <td>&lt;s&gt;[INST] What caused the Gold Rush in the US ...</td>\n",
       "      <td>-1.843</td>\n",
       "      <td>-4.973</td>\n",
       "    </tr>\n",
       "    <tr>\n",
       "      <th>35844</th>\n",
       "      <td>&lt;s&gt;[INST] What are some must do things during ...</td>\n",
       "      <td>&lt;s&gt;[INST] What are some must do things during ...</td>\n",
       "      <td>&lt;s&gt;[INST] What are some must do things during ...</td>\n",
       "      <td>-4.363</td>\n",
       "      <td>-5.63</td>\n",
       "    </tr>\n",
       "    <tr>\n",
       "      <th>37490</th>\n",
       "      <td>&lt;s&gt;[INST] I was reading that piano keys used t...</td>\n",
       "      <td>&lt;s&gt;[INST] I was reading that piano keys used t...</td>\n",
       "      <td>&lt;s&gt;[INST] I was reading that piano keys used t...</td>\n",
       "      <td>-2.453</td>\n",
       "      <td>-3.887</td>\n",
       "    </tr>\n",
       "    <tr>\n",
       "      <th>26551</th>\n",
       "      <td>&lt;s&gt;[INST] What are some characteristic differe...</td>\n",
       "      <td>&lt;s&gt;[INST] What are some characteristic differe...</td>\n",
       "      <td>&lt;s&gt;[INST] What are some characteristic differe...</td>\n",
       "      <td>-2.09</td>\n",
       "      <td>-2.082</td>\n",
       "    </tr>\n",
       "    <tr>\n",
       "      <th>23360</th>\n",
       "      <td>&lt;s&gt;[INST] I heard that corn originated from No...</td>\n",
       "      <td>&lt;s&gt;[INST] I heard that corn originated from No...</td>\n",
       "      <td>&lt;s&gt;[INST] I heard that corn originated from No...</td>\n",
       "      <td>-8.62</td>\n",
       "      <td>-9.05</td>\n",
       "    </tr>\n",
       "  </tbody>\n",
       "</table>\n",
       "</div>"
      ],
      "text/plain": [
       "                                                   query  \\\n",
       "33467  <s>[INST] What caused the Gold Rush in the US ...   \n",
       "35844  <s>[INST] What are some must do things during ...   \n",
       "37490  <s>[INST] I was reading that piano keys used t...   \n",
       "26551  <s>[INST] What are some characteristic differe...   \n",
       "23360  <s>[INST] I heard that corn originated from No...   \n",
       "\n",
       "                                                  chosen  \\\n",
       "33467  <s>[INST] What caused the Gold Rush in the US ...   \n",
       "35844  <s>[INST] What are some must do things during ...   \n",
       "37490  <s>[INST] I was reading that piano keys used t...   \n",
       "26551  <s>[INST] What are some characteristic differe...   \n",
       "23360  <s>[INST] I heard that corn originated from No...   \n",
       "\n",
       "                                                rejected chosen_rewards  \\\n",
       "33467  <s>[INST] What caused the Gold Rush in the US ...         -1.843   \n",
       "35844  <s>[INST] What are some must do things during ...         -4.363   \n",
       "37490  <s>[INST] I was reading that piano keys used t...         -2.453   \n",
       "26551  <s>[INST] What are some characteristic differe...          -2.09   \n",
       "23360  <s>[INST] I heard that corn originated from No...          -8.62   \n",
       "\n",
       "      rejected_rewards  \n",
       "33467           -4.973  \n",
       "35844            -5.63  \n",
       "37490           -3.887  \n",
       "26551           -2.082  \n",
       "23360            -9.05  "
      ]
     },
     "execution_count": 12,
     "metadata": {},
     "output_type": "execute_result"
    }
   ],
   "source": [
    "df_train_sub_new.head()"
   ]
  },
  {
   "cell_type": "code",
   "execution_count": 13,
   "metadata": {},
   "outputs": [],
   "source": [
    "df_train_sub_new.to_csv('./datasets/anthropic_sub_with_rewards.csv.gz', compression='gzip')"
   ]
  },
  {
   "cell_type": "code",
   "execution_count": 14,
   "metadata": {},
   "outputs": [
    {
     "data": {
      "text/html": [
       "<div>\n",
       "<style scoped>\n",
       "    .dataframe tbody tr th:only-of-type {\n",
       "        vertical-align: middle;\n",
       "    }\n",
       "\n",
       "    .dataframe tbody tr th {\n",
       "        vertical-align: top;\n",
       "    }\n",
       "\n",
       "    .dataframe thead th {\n",
       "        text-align: right;\n",
       "    }\n",
       "</style>\n",
       "<table border=\"1\" class=\"dataframe\">\n",
       "  <thead>\n",
       "    <tr style=\"text-align: right;\">\n",
       "      <th></th>\n",
       "      <th>Unnamed: 0</th>\n",
       "      <th>query</th>\n",
       "      <th>chosen</th>\n",
       "      <th>rejected</th>\n",
       "      <th>chosen_rewards</th>\n",
       "      <th>rejected_rewards</th>\n",
       "    </tr>\n",
       "  </thead>\n",
       "  <tbody>\n",
       "    <tr>\n",
       "      <th>0</th>\n",
       "      <td>33467</td>\n",
       "      <td>&lt;s&gt;[INST] What caused the Gold Rush in the US ...</td>\n",
       "      <td>&lt;s&gt;[INST] What caused the Gold Rush in the US ...</td>\n",
       "      <td>&lt;s&gt;[INST] What caused the Gold Rush in the US ...</td>\n",
       "      <td>-1.843</td>\n",
       "      <td>-4.973</td>\n",
       "    </tr>\n",
       "    <tr>\n",
       "      <th>1</th>\n",
       "      <td>35844</td>\n",
       "      <td>&lt;s&gt;[INST] What are some must do things during ...</td>\n",
       "      <td>&lt;s&gt;[INST] What are some must do things during ...</td>\n",
       "      <td>&lt;s&gt;[INST] What are some must do things during ...</td>\n",
       "      <td>-4.363</td>\n",
       "      <td>-5.630</td>\n",
       "    </tr>\n",
       "    <tr>\n",
       "      <th>2</th>\n",
       "      <td>37490</td>\n",
       "      <td>&lt;s&gt;[INST] I was reading that piano keys used t...</td>\n",
       "      <td>&lt;s&gt;[INST] I was reading that piano keys used t...</td>\n",
       "      <td>&lt;s&gt;[INST] I was reading that piano keys used t...</td>\n",
       "      <td>-2.453</td>\n",
       "      <td>-3.887</td>\n",
       "    </tr>\n",
       "    <tr>\n",
       "      <th>3</th>\n",
       "      <td>26551</td>\n",
       "      <td>&lt;s&gt;[INST] What are some characteristic differe...</td>\n",
       "      <td>&lt;s&gt;[INST] What are some characteristic differe...</td>\n",
       "      <td>&lt;s&gt;[INST] What are some characteristic differe...</td>\n",
       "      <td>-2.090</td>\n",
       "      <td>-2.082</td>\n",
       "    </tr>\n",
       "    <tr>\n",
       "      <th>4</th>\n",
       "      <td>23360</td>\n",
       "      <td>&lt;s&gt;[INST] I heard that corn originated from No...</td>\n",
       "      <td>&lt;s&gt;[INST] I heard that corn originated from No...</td>\n",
       "      <td>&lt;s&gt;[INST] I heard that corn originated from No...</td>\n",
       "      <td>-8.620</td>\n",
       "      <td>-9.050</td>\n",
       "    </tr>\n",
       "  </tbody>\n",
       "</table>\n",
       "</div>"
      ],
      "text/plain": [
       "   Unnamed: 0                                              query  \\\n",
       "0       33467  <s>[INST] What caused the Gold Rush in the US ...   \n",
       "1       35844  <s>[INST] What are some must do things during ...   \n",
       "2       37490  <s>[INST] I was reading that piano keys used t...   \n",
       "3       26551  <s>[INST] What are some characteristic differe...   \n",
       "4       23360  <s>[INST] I heard that corn originated from No...   \n",
       "\n",
       "                                              chosen  \\\n",
       "0  <s>[INST] What caused the Gold Rush in the US ...   \n",
       "1  <s>[INST] What are some must do things during ...   \n",
       "2  <s>[INST] I was reading that piano keys used t...   \n",
       "3  <s>[INST] What are some characteristic differe...   \n",
       "4  <s>[INST] I heard that corn originated from No...   \n",
       "\n",
       "                                            rejected  chosen_rewards  \\\n",
       "0  <s>[INST] What caused the Gold Rush in the US ...          -1.843   \n",
       "1  <s>[INST] What are some must do things during ...          -4.363   \n",
       "2  <s>[INST] I was reading that piano keys used t...          -2.453   \n",
       "3  <s>[INST] What are some characteristic differe...          -2.090   \n",
       "4  <s>[INST] I heard that corn originated from No...          -8.620   \n",
       "\n",
       "   rejected_rewards  \n",
       "0            -4.973  \n",
       "1            -5.630  \n",
       "2            -3.887  \n",
       "3            -2.082  \n",
       "4            -9.050  "
      ]
     },
     "execution_count": 14,
     "metadata": {},
     "output_type": "execute_result"
    }
   ],
   "source": [
    "df_load = pd.read_csv('./datasets/anthropic_sub_with_rewards.csv.gz', compression='gzip')\n",
    "df_load.head()"
   ]
  },
  {
   "cell_type": "code",
   "execution_count": 15,
   "metadata": {},
   "outputs": [
    {
     "data": {
      "text/plain": [
       "0    33467\n",
       "1    35844\n",
       "2    37490\n",
       "3    26551\n",
       "4    23360\n",
       "Name: Unnamed: 0, dtype: int64"
      ]
     },
     "execution_count": 15,
     "metadata": {},
     "output_type": "execute_result"
    }
   ],
   "source": [
    "df_load['Unnamed: 0'].iloc[:5]"
   ]
  },
  {
   "cell_type": "code",
   "execution_count": 23,
   "metadata": {},
   "outputs": [
    {
     "data": {
      "text/plain": [
       "0    3.130\n",
       "1    1.267\n",
       "2    1.434\n",
       "3   -0.008\n",
       "4    0.430\n",
       "Name: reward_diff, dtype: float64"
      ]
     },
     "execution_count": 23,
     "metadata": {},
     "output_type": "execute_result"
    }
   ],
   "source": [
    "df_load['reward_diff'] = df_load['chosen_rewards'] - df_load['rejected_rewards']\n",
    "df_load['reward_diff'].head()"
   ]
  },
  {
   "cell_type": "code",
   "execution_count": 25,
   "metadata": {},
   "outputs": [
    {
     "data": {
      "image/png": "[encoded data removed]",
      "text/plain": [
       "<Figure size 640x480 with 1 Axes>"
      ]
     },
     "metadata": {},
     "output_type": "display_data"
    }
   ],
   "source": [
    "plt.hist(df_load['reward_diff'], bins=50)\n",
    "plt.grid()\n",
    "plt.show()"
   ]
  },
  {
   "cell_type": "code",
   "execution_count": 28,
   "metadata": {},
   "outputs": [
    {
     "name": "stdout",
     "output_type": "stream",
     "text": [
      "7493\n"
     ]
    }
   ],
   "source": [
    "df1 = df_load[(df_load['reward_diff'] > -1) & (df_load['reward_diff'] <= 1)]\n",
    "print(len(df1))"
   ]
  },
  {
   "cell_type": "code",
   "execution_count": 33,
   "metadata": {},
   "outputs": [
    {
     "name": "stdout",
     "output_type": "stream",
     "text": [
      "6507\n"
     ]
    }
   ],
   "source": [
    "df2 = df_load[(df_load['reward_diff'] > 1) & (df_load['reward_diff'] <= 3)]\n",
    "print(len(df2))"
   ]
  },
  {
   "cell_type": "code",
   "execution_count": 34,
   "metadata": {},
   "outputs": [
    {
     "name": "stdout",
     "output_type": "stream",
     "text": [
      "3285\n"
     ]
    }
   ],
   "source": [
    "df3 = df_load[(df_load['reward_diff'] > 3)]\n",
    "print(len(df3))"
   ]
  },
  {
   "cell_type": "code",
   "execution_count": 36,
   "metadata": {},
   "outputs": [
    {
     "data": {
      "text/html": [
       "<div>\n",
       "<style scoped>\n",
       "    .dataframe tbody tr th:only-of-type {\n",
       "        vertical-align: middle;\n",
       "    }\n",
       "\n",
       "    .dataframe tbody tr th {\n",
       "        vertical-align: top;\n",
       "    }\n",
       "\n",
       "    .dataframe thead th {\n",
       "        text-align: right;\n",
       "    }\n",
       "</style>\n",
       "<table border=\"1\" class=\"dataframe\">\n",
       "  <thead>\n",
       "    <tr style=\"text-align: right;\">\n",
       "      <th></th>\n",
       "      <th>Unnamed: 0</th>\n",
       "      <th>query</th>\n",
       "      <th>chosen</th>\n",
       "      <th>rejected</th>\n",
       "      <th>chosen_rewards</th>\n",
       "      <th>rejected_rewards</th>\n",
       "      <th>reward_diff</th>\n",
       "    </tr>\n",
       "  </thead>\n",
       "  <tbody>\n",
       "    <tr>\n",
       "      <th>0</th>\n",
       "      <td>23981</td>\n",
       "      <td>&lt;s&gt;[INST] How can I learn to play the piano? [...</td>\n",
       "      <td>&lt;s&gt;[INST] How can I learn to play the piano? [...</td>\n",
       "      <td>&lt;s&gt;[INST] How can I learn to play the piano? [...</td>\n",
       "      <td>-7.207</td>\n",
       "      <td>-6.984</td>\n",
       "      <td>-0.223</td>\n",
       "    </tr>\n",
       "    <tr>\n",
       "      <th>1</th>\n",
       "      <td>33229</td>\n",
       "      <td>&lt;s&gt;[INST] How can I write a romance novel? [/I...</td>\n",
       "      <td>&lt;s&gt;[INST] How can I write a romance novel? [/I...</td>\n",
       "      <td>&lt;s&gt;[INST] How can I write a romance novel? [/I...</td>\n",
       "      <td>-6.457</td>\n",
       "      <td>-6.793</td>\n",
       "      <td>0.336</td>\n",
       "    </tr>\n",
       "    <tr>\n",
       "      <th>2</th>\n",
       "      <td>5347</td>\n",
       "      <td>&lt;s&gt;[INST] Go to hell [/INST]</td>\n",
       "      <td>&lt;s&gt;[INST] Go to hell [/INST]Can I help you wit...</td>\n",
       "      <td>&lt;s&gt;[INST] Go to hell [/INST]I’m sorry, I can’t...</td>\n",
       "      <td>-4.113</td>\n",
       "      <td>-4.055</td>\n",
       "      <td>-0.058</td>\n",
       "    </tr>\n",
       "    <tr>\n",
       "      <th>3</th>\n",
       "      <td>1479</td>\n",
       "      <td>&lt;s&gt;[INST] Which of the two would you prefer to...</td>\n",
       "      <td>&lt;s&gt;[INST] Which of the two would you prefer to...</td>\n",
       "      <td>&lt;s&gt;[INST] Which of the two would you prefer to...</td>\n",
       "      <td>-6.363</td>\n",
       "      <td>-6.164</td>\n",
       "      <td>-0.199</td>\n",
       "    </tr>\n",
       "    <tr>\n",
       "      <th>4</th>\n",
       "      <td>30308</td>\n",
       "      <td>&lt;s&gt;[INST] How do you make an apple pie? [/INST]</td>\n",
       "      <td>&lt;s&gt;[INST] How do you make an apple pie? [/INST...</td>\n",
       "      <td>&lt;s&gt;[INST] How do you make an apple pie? [/INST...</td>\n",
       "      <td>-1.023</td>\n",
       "      <td>-1.898</td>\n",
       "      <td>0.875</td>\n",
       "    </tr>\n",
       "  </tbody>\n",
       "</table>\n",
       "</div>"
      ],
      "text/plain": [
       "   Unnamed: 0                                              query  \\\n",
       "0       23981  <s>[INST] How can I learn to play the piano? [...   \n",
       "1       33229  <s>[INST] How can I write a romance novel? [/I...   \n",
       "2        5347                       <s>[INST] Go to hell [/INST]   \n",
       "3        1479  <s>[INST] Which of the two would you prefer to...   \n",
       "4       30308    <s>[INST] How do you make an apple pie? [/INST]   \n",
       "\n",
       "                                              chosen  \\\n",
       "0  <s>[INST] How can I learn to play the piano? [...   \n",
       "1  <s>[INST] How can I write a romance novel? [/I...   \n",
       "2  <s>[INST] Go to hell [/INST]Can I help you wit...   \n",
       "3  <s>[INST] Which of the two would you prefer to...   \n",
       "4  <s>[INST] How do you make an apple pie? [/INST...   \n",
       "\n",
       "                                            rejected  chosen_rewards  \\\n",
       "0  <s>[INST] How can I learn to play the piano? [...          -7.207   \n",
       "1  <s>[INST] How can I write a romance novel? [/I...          -6.457   \n",
       "2  <s>[INST] Go to hell [/INST]I’m sorry, I can’t...          -4.113   \n",
       "3  <s>[INST] Which of the two would you prefer to...          -6.363   \n",
       "4  <s>[INST] How do you make an apple pie? [/INST...          -1.023   \n",
       "\n",
       "   rejected_rewards  reward_diff  \n",
       "0            -6.984       -0.223  \n",
       "1            -6.793        0.336  \n",
       "2            -4.055       -0.058  \n",
       "3            -6.164       -0.199  \n",
       "4            -1.898        0.875  "
      ]
     },
     "execution_count": 36,
     "metadata": {},
     "output_type": "execute_result"
    }
   ],
   "source": [
    "frames = [df1.sample(n=4500, ignore_index=True), df2.sample(n=2500, ignore_index=True), df3.sample(n=1000, ignore_index=True)]\n",
    "df_final = pd.concat(frames, ignore_index=True)\n",
    "df_final = df_final.sample(frac=1, ignore_index=True)\n",
    "df_final.head()"
   ]
  },
  {
   "cell_type": "code",
   "execution_count": 38,
   "metadata": {},
   "outputs": [
    {
     "name": "stderr",
     "output_type": "stream",
     "text": [
      "/home/t-dasnirjhar/anaconda3/envs/trl/lib/python3.12/site-packages/huggingface_hub/file_download.py:1132: FutureWarning: `resume_download` is deprecated and will be removed in version 1.0.0. Downloads always resume when possible. If you want to force a new download, use `force_download=True`.\n",
      "  warnings.warn(\n"
     ]
    }
   ],
   "source": [
    "tokenizer_gemma = AutoTokenizer.from_pretrained('google/gemma-2b-it')\n",
    "data_dict_new = {'query' : [], 'chosen' : [], 'rejected' : []}\n"
   ]
  },
  {
   "cell_type": "code",
   "execution_count": 39,
   "metadata": {},
   "outputs": [
    {
     "name": "stderr",
     "output_type": "stream",
     "text": [
      "100%|██████████| 8000/8000 [00:04<00:00, 1768.12it/s]\n"
     ]
    }
   ],
   "source": [
    "for i in tqdm(list(df_final['Unnamed: 0'])):\n",
    "    data_dict_new['query'].append(tokenizer_gemma.apply_chat_template([base_ds[i]['conv_A'][0]], tokenize=False, add_generation_prompt=True))\n",
    "    if base_ds[i]['conv_A_rating'] == 1:\n",
    "        data_dict_new['chosen'].append(tokenizer_gemma.apply_chat_template(base_ds[i]['conv_A'], tokenize=False))\n",
    "        data_dict_new['rejected'].append(tokenizer_gemma.apply_chat_template(base_ds[i]['conv_B'], tokenize=False))\n",
    "    else:\n",
    "        data_dict_new['rejected'].append(tokenizer_gemma.apply_chat_template(base_ds[i]['conv_A'], tokenize=False))\n",
    "        data_dict_new['chosen'].append(tokenizer_gemma.apply_chat_template(base_ds[i]['conv_B'], tokenize=False))"
   ]
  },
  {
   "cell_type": "code",
   "execution_count": 41,
   "metadata": {},
   "outputs": [
    {
     "data": {
      "text/html": [
       "<div>\n",
       "<style scoped>\n",
       "    .dataframe tbody tr th:only-of-type {\n",
       "        vertical-align: middle;\n",
       "    }\n",
       "\n",
       "    .dataframe tbody tr th {\n",
       "        vertical-align: top;\n",
       "    }\n",
       "\n",
       "    .dataframe thead th {\n",
       "        text-align: right;\n",
       "    }\n",
       "</style>\n",
       "<table border=\"1\" class=\"dataframe\">\n",
       "  <thead>\n",
       "    <tr style=\"text-align: right;\">\n",
       "      <th></th>\n",
       "      <th>query</th>\n",
       "      <th>chosen</th>\n",
       "      <th>rejected</th>\n",
       "      <th>orig_id</th>\n",
       "    </tr>\n",
       "  </thead>\n",
       "  <tbody>\n",
       "    <tr>\n",
       "      <th>0</th>\n",
       "      <td>&lt;bos&gt;&lt;start_of_turn&gt;user\\nHow can I learn to p...</td>\n",
       "      <td>&lt;bos&gt;&lt;start_of_turn&gt;user\\nHow can I learn to p...</td>\n",
       "      <td>&lt;bos&gt;&lt;start_of_turn&gt;user\\nHow can I learn to p...</td>\n",
       "      <td>23981</td>\n",
       "    </tr>\n",
       "    <tr>\n",
       "      <th>1</th>\n",
       "      <td>&lt;bos&gt;&lt;start_of_turn&gt;user\\nHow can I write a ro...</td>\n",
       "      <td>&lt;bos&gt;&lt;start_of_turn&gt;user\\nHow can I write a ro...</td>\n",
       "      <td>&lt;bos&gt;&lt;start_of_turn&gt;user\\nHow can I write a ro...</td>\n",
       "      <td>33229</td>\n",
       "    </tr>\n",
       "    <tr>\n",
       "      <th>2</th>\n",
       "      <td>&lt;bos&gt;&lt;start_of_turn&gt;user\\nGo to hell&lt;end_of_tu...</td>\n",
       "      <td>&lt;bos&gt;&lt;start_of_turn&gt;user\\nGo to hell&lt;end_of_tu...</td>\n",
       "      <td>&lt;bos&gt;&lt;start_of_turn&gt;user\\nGo to hell&lt;end_of_tu...</td>\n",
       "      <td>5347</td>\n",
       "    </tr>\n",
       "    <tr>\n",
       "      <th>3</th>\n",
       "      <td>&lt;bos&gt;&lt;start_of_turn&gt;user\\nWhich of the two wou...</td>\n",
       "      <td>&lt;bos&gt;&lt;start_of_turn&gt;user\\nWhich of the two wou...</td>\n",
       "      <td>&lt;bos&gt;&lt;start_of_turn&gt;user\\nWhich of the two wou...</td>\n",
       "      <td>1479</td>\n",
       "    </tr>\n",
       "    <tr>\n",
       "      <th>4</th>\n",
       "      <td>&lt;bos&gt;&lt;start_of_turn&gt;user\\nHow do you make an a...</td>\n",
       "      <td>&lt;bos&gt;&lt;start_of_turn&gt;user\\nHow do you make an a...</td>\n",
       "      <td>&lt;bos&gt;&lt;start_of_turn&gt;user\\nHow do you make an a...</td>\n",
       "      <td>30308</td>\n",
       "    </tr>\n",
       "  </tbody>\n",
       "</table>\n",
       "</div>"
      ],
      "text/plain": [
       "                                               query  \\\n",
       "0  <bos><start_of_turn>user\\nHow can I learn to p...   \n",
       "1  <bos><start_of_turn>user\\nHow can I write a ro...   \n",
       "2  <bos><start_of_turn>user\\nGo to hell<end_of_tu...   \n",
       "3  <bos><start_of_turn>user\\nWhich of the two wou...   \n",
       "4  <bos><start_of_turn>user\\nHow do you make an a...   \n",
       "\n",
       "                                              chosen  \\\n",
       "0  <bos><start_of_turn>user\\nHow can I learn to p...   \n",
       "1  <bos><start_of_turn>user\\nHow can I write a ro...   \n",
       "2  <bos><start_of_turn>user\\nGo to hell<end_of_tu...   \n",
       "3  <bos><start_of_turn>user\\nWhich of the two wou...   \n",
       "4  <bos><start_of_turn>user\\nHow do you make an a...   \n",
       "\n",
       "                                            rejected  orig_id  \n",
       "0  <bos><start_of_turn>user\\nHow can I learn to p...    23981  \n",
       "1  <bos><start_of_turn>user\\nHow can I write a ro...    33229  \n",
       "2  <bos><start_of_turn>user\\nGo to hell<end_of_tu...     5347  \n",
       "3  <bos><start_of_turn>user\\nWhich of the two wou...     1479  \n",
       "4  <bos><start_of_turn>user\\nHow do you make an a...    30308  "
      ]
     },
     "execution_count": 41,
     "metadata": {},
     "output_type": "execute_result"
    }
   ],
   "source": [
    "df_gemma_final = pd.DataFrame(data_dict_new)\n",
    "df_gemma_final['orig_id'] = list(df_final['Unnamed: 0'])\n",
    "df_gemma_final.head()"
   ]
  },
  {
   "cell_type": "code",
   "execution_count": 43,
   "metadata": {},
   "outputs": [],
   "source": [
    "df_gemma_final.to_csv('./datasets/anthropic_hard_8k_train.csv.gz', compression='gzip', index=False)"
   ]
  },
  {
   "cell_type": "code",
   "execution_count": 50,
   "metadata": {},
   "outputs": [],
   "source": [
    "all_idx = set([i for i in range(len(base_ds))])\n",
    "train_idx = set(list(df_gemma_final['orig_id']))\n",
    "valid_test_idx = list(all_idx - train_idx)"
   ]
  },
  {
   "cell_type": "code",
   "execution_count": 55,
   "metadata": {},
   "outputs": [
    {
     "data": {
      "text/plain": [
       "array([36981,  7856, 46898, 44944, 23830, 28242, 20768, 11905, 38136,\n",
       "       42706])"
      ]
     },
     "execution_count": 55,
     "metadata": {},
     "output_type": "execute_result"
    }
   ],
   "source": [
    "import numpy as np\n",
    "\n",
    "rng = np.random.default_rng(428731)\n",
    "\n",
    "test_idx = rng.choice(valid_test_idx, 2000, replace=False)\n",
    "test_idx[:10]"
   ]
  },
  {
   "cell_type": "code",
   "execution_count": 60,
   "metadata": {},
   "outputs": [
    {
     "data": {
      "text/plain": [
       "int"
      ]
     },
     "execution_count": 60,
     "metadata": {},
     "output_type": "execute_result"
    }
   ],
   "source": [
    "type(test_idx.tolist()[0])"
   ]
  },
  {
   "cell_type": "code",
   "execution_count": 61,
   "metadata": {},
   "outputs": [],
   "source": [
    "data_dict_test = {'query' : [], 'chosen' : [], 'rejected' : [], 'orig_id' : test_idx.tolist()}"
   ]
  },
  {
   "cell_type": "code",
   "execution_count": 62,
   "metadata": {},
   "outputs": [
    {
     "name": "stderr",
     "output_type": "stream",
     "text": [
      "100%|██████████| 2000/2000 [00:01<00:00, 1730.78it/s]\n"
     ]
    }
   ],
   "source": [
    "for i in tqdm(test_idx.tolist()):\n",
    "    data_dict_test['query'].append(tokenizer_gemma.apply_chat_template([base_ds[i]['conv_A'][0]], tokenize=False, add_generation_prompt=True))\n",
    "    if base_ds[i]['conv_A_rating'] == 1:\n",
    "        data_dict_test['chosen'].append(tokenizer_gemma.apply_chat_template(base_ds[i]['conv_A'], tokenize=False))\n",
    "        data_dict_test['rejected'].append(tokenizer_gemma.apply_chat_template(base_ds[i]['conv_B'], tokenize=False))\n",
    "    else:\n",
    "        data_dict_test['rejected'].append(tokenizer_gemma.apply_chat_template(base_ds[i]['conv_A'], tokenize=False))\n",
    "        data_dict_test['chosen'].append(tokenizer_gemma.apply_chat_template(base_ds[i]['conv_B'], tokenize=False))"
   ]
  },
  {
   "cell_type": "code",
   "execution_count": 63,
   "metadata": {},
   "outputs": [
    {
     "data": {
      "text/html": [
       "<div>\n",
       "<style scoped>\n",
       "    .dataframe tbody tr th:only-of-type {\n",
       "        vertical-align: middle;\n",
       "    }\n",
       "\n",
       "    .dataframe tbody tr th {\n",
       "        vertical-align: top;\n",
       "    }\n",
       "\n",
       "    .dataframe thead th {\n",
       "        text-align: right;\n",
       "    }\n",
       "</style>\n",
       "<table border=\"1\" class=\"dataframe\">\n",
       "  <thead>\n",
       "    <tr style=\"text-align: right;\">\n",
       "      <th></th>\n",
       "      <th>query</th>\n",
       "      <th>chosen</th>\n",
       "      <th>rejected</th>\n",
       "      <th>orig_id</th>\n",
       "    </tr>\n",
       "  </thead>\n",
       "  <tbody>\n",
       "    <tr>\n",
       "      <th>0</th>\n",
       "      <td>&lt;bos&gt;&lt;start_of_turn&gt;user\\nWhich OS is more use...</td>\n",
       "      <td>&lt;bos&gt;&lt;start_of_turn&gt;user\\nWhich OS is more use...</td>\n",
       "      <td>&lt;bos&gt;&lt;start_of_turn&gt;user\\nWhich OS is more use...</td>\n",
       "      <td>36981</td>\n",
       "    </tr>\n",
       "    <tr>\n",
       "      <th>1</th>\n",
       "      <td>&lt;bos&gt;&lt;start_of_turn&gt;user\\nCan you detect hidde...</td>\n",
       "      <td>&lt;bos&gt;&lt;start_of_turn&gt;user\\nCan you detect hidde...</td>\n",
       "      <td>&lt;bos&gt;&lt;start_of_turn&gt;user\\nCan you detect hidde...</td>\n",
       "      <td>7856</td>\n",
       "    </tr>\n",
       "    <tr>\n",
       "      <th>2</th>\n",
       "      <td>&lt;bos&gt;&lt;start_of_turn&gt;user\\nHow long can meat st...</td>\n",
       "      <td>&lt;bos&gt;&lt;start_of_turn&gt;user\\nHow long can meat st...</td>\n",
       "      <td>&lt;bos&gt;&lt;start_of_turn&gt;user\\nHow long can meat st...</td>\n",
       "      <td>46898</td>\n",
       "    </tr>\n",
       "    <tr>\n",
       "      <th>3</th>\n",
       "      <td>&lt;bos&gt;&lt;start_of_turn&gt;user\\nHow do I protect mys...</td>\n",
       "      <td>&lt;bos&gt;&lt;start_of_turn&gt;user\\nHow do I protect mys...</td>\n",
       "      <td>&lt;bos&gt;&lt;start_of_turn&gt;user\\nHow do I protect mys...</td>\n",
       "      <td>44944</td>\n",
       "    </tr>\n",
       "    <tr>\n",
       "      <th>4</th>\n",
       "      <td>&lt;bos&gt;&lt;start_of_turn&gt;user\\nPlease compile a lis...</td>\n",
       "      <td>&lt;bos&gt;&lt;start_of_turn&gt;user\\nPlease compile a lis...</td>\n",
       "      <td>&lt;bos&gt;&lt;start_of_turn&gt;user\\nPlease compile a lis...</td>\n",
       "      <td>23830</td>\n",
       "    </tr>\n",
       "  </tbody>\n",
       "</table>\n",
       "</div>"
      ],
      "text/plain": [
       "                                               query  \\\n",
       "0  <bos><start_of_turn>user\\nWhich OS is more use...   \n",
       "1  <bos><start_of_turn>user\\nCan you detect hidde...   \n",
       "2  <bos><start_of_turn>user\\nHow long can meat st...   \n",
       "3  <bos><start_of_turn>user\\nHow do I protect mys...   \n",
       "4  <bos><start_of_turn>user\\nPlease compile a lis...   \n",
       "\n",
       "                                              chosen  \\\n",
       "0  <bos><start_of_turn>user\\nWhich OS is more use...   \n",
       "1  <bos><start_of_turn>user\\nCan you detect hidde...   \n",
       "2  <bos><start_of_turn>user\\nHow long can meat st...   \n",
       "3  <bos><start_of_turn>user\\nHow do I protect mys...   \n",
       "4  <bos><start_of_turn>user\\nPlease compile a lis...   \n",
       "\n",
       "                                            rejected  orig_id  \n",
       "0  <bos><start_of_turn>user\\nWhich OS is more use...    36981  \n",
       "1  <bos><start_of_turn>user\\nCan you detect hidde...     7856  \n",
       "2  <bos><start_of_turn>user\\nHow long can meat st...    46898  \n",
       "3  <bos><start_of_turn>user\\nHow do I protect mys...    44944  \n",
       "4  <bos><start_of_turn>user\\nPlease compile a lis...    23830  "
      ]
     },
     "execution_count": 63,
     "metadata": {},
     "output_type": "execute_result"
    }
   ],
   "source": [
    "df_gemma_final_test = pd.DataFrame(data_dict_test)\n",
    "df_gemma_final.head()"
   ]
  },
  {
   "cell_type": "code",
   "execution_count": 64,
   "metadata": {},
   "outputs": [],
   "source": [
    "df_gemma_final_test.to_csv('./datasets/anthropic_hard_8k_test.csv.gz', compression='gzip', index=False)"
   ]
  },
  {
   "cell_type": "code",
   "execution_count": 54,
   "metadata": {},
   "outputs": [],
   "source": [
    "df_train_small = df_train.sample(n=5000, random_state=987132)\n",
    "df_test_small = df_test.sample(n=1000, random_state=287043)\n",
    "\n",
    "df_train_small.to_csv('./datasets/anthropic_train_small.csv.gz', compression='gzip', index=False)\n",
    "df_test_small.to_csv('./datasets/anthropic_test_small.csv.gz', compression='gzip', index=False)"
   ]
  },
  {
   "cell_type": "code",
   "execution_count": 11,
   "metadata": {},
   "outputs": [],
   "source": [
    "import pandas as pd\n",
    "df = pd.read_csv('./output/Anthropic_small_Gemma_random_le_result.csv')"
   ]
  },
  {
   "cell_type": "code",
   "execution_count": 12,
   "metadata": {},
   "outputs": [],
   "source": [
    "arr = []\n",
    "for res in df['response']:\n",
    "    idx_user_start = res.find('<start_of_turn>user\\n') + len('<start_of_turn>user\\n')\n",
    "    idx_user_end = res.find('<end_of_turn>\\n')\n",
    "    idx_model_start = res.find('<start_of_turn>model\\n') + len('<start_of_turn>model\\n')\n",
    "    idx_model_end = res.rfind('<end_of_turn>\\n')\n",
    "    arr.append([{'role' : 'user', 'content' : res[idx_user_start : idx_user_end]},\n",
    "                {'role' : 'assistant', 'content' : res[idx_model_start : idx_model_end]}])"
   ]
  },
  {
   "cell_type": "code",
   "execution_count": 14,
   "metadata": {},
   "outputs": [
    {
     "data": {
      "text/plain": [
       "72"
      ]
     },
     "execution_count": 14,
     "metadata": {},
     "output_type": "execute_result"
    }
   ],
   "source": [
    "df['response'].iloc[0].rfind('<end_of_turn>\\n')"
   ]
  },
  {
   "cell_type": "code",
   "execution_count": 15,
   "metadata": {},
   "outputs": [
    {
     "data": {
      "text/plain": [
       "107"
      ]
     },
     "execution_count": 15,
     "metadata": {},
     "output_type": "execute_result"
    }
   ],
   "source": [
    "df['response'].iloc[0].find('<start_of_turn>model\\n') + len('<start_of_turn>model\\n')"
   ]
  },
  {
   "cell_type": "code",
   "execution_count": 18,
   "metadata": {},
   "outputs": [
    {
     "data": {
      "text/plain": [
       "\"<bos><start_of_turn>user\\nHow long can meat stay in the fridge?<end_of_turn>\\n<start_of_turn>model\\nMeat is best stored and consumed within 2-3 days of purchase. Proper refrigeration, at 40°F (4°C) or below, helps preserve the meat's freshness and flavor. It should be stored in airtight containers or wrapped tightly in plastic wrap.\\n\\n* **Poultry:** Up to 3 days\\n* **Red meat:** 3-5 days\\n* **Ground beef:** 3 days\\n\\n**Tips for storing meat:**\\n\\n* Keep the fridge door closed as much as possible to maintain freshness.\\n* Use the oldest cuts of meat first, to ensure fresh meat is used first.\\n* Use a reminder or timer to track how long meat has been out on the counter.\\n* Store different cuts of meat in separate containers, to prevent cross-contamination.\\n* Never leave meat out on the counter at room temperature for more than 2 hours.\\n\\n**Tips for reheating cooked meat:**\\n\\n* Reheat food in a pan or microwave over medium-low heat, avoiding high heat.\\n* Use a thermometer to ensure the meat is cooked to the proper internal temperature, which is 165°F (74°C).\\n* Avoid reheating over the stovetop, as this can dry out the meat.\\n\\n**Storage tips for leftovers:**\\n\\n* Store leftover meat in airtight containers or wrap in plastic wrap.\\n* Use within 3-4 days of cooking.\\n* Freeze any leftovers that you cannot eat within that time frame.<eos>\""
      ]
     },
     "execution_count": 18,
     "metadata": {},
     "output_type": "execute_result"
    }
   ],
   "source": [
    "df['response'].iloc[2]"
   ]
  },
  {
   "cell_type": "code",
   "execution_count": 5,
   "metadata": {},
   "outputs": [],
   "source": [
    "idx_user_start = a.find('<start_of_turn>user\\n') + len('<start_of_turn>user\\n')\n",
    "idx_user_end = a.find('<end_of_turn>\\n')\n",
    "idx_model_start = a.find('<start_of_turn>model\\n') + len('<start_of_turn>model\\n')\n",
    "idx_model_end = a.rfind('<end_of_turn>\\n')"
   ]
  },
  {
   "cell_type": "code",
   "execution_count": 6,
   "metadata": {},
   "outputs": [
    {
     "data": {
      "text/plain": [
       "'Which OS is more user friendly, android or Mac?'"
      ]
     },
     "execution_count": 6,
     "metadata": {},
     "output_type": "execute_result"
    }
   ],
   "source": [
    "a[idx_user_start : idx_user_end]"
   ]
  },
  {
   "cell_type": "code",
   "execution_count": 7,
   "metadata": {},
   "outputs": [
    {
     "data": {
      "text/plain": [
       "'Apple’s OS is relatively simple to use, and I find it a pleasure to work with.  It’s also a closed system, which means everything you install or download is curated by Apple to ensure it’s safe.  The downside is that you’re stuck with the company’s choices for you, but at the same time they provide a good, reliable experience for their users.\\n\\nApple devices also tend to be built well, and have a reputation for being sturdy.  Likewise, there are fewer issues with compatibility or stability across Apple devices.\\n\\nAndroid, on the other hand, can be a little confusing at first, and it has a large, open ecosystem where anyone can develop apps and software for the platform.  This allows more flexibility, but also introduces the potential for uncertainty -- any particular Android device may or may not have the latest software installed, and it may not be clear exactly what you’re getting when you purchase it.  The security situation is also more uncertain -- at the moment, many Android devices are shipping with software that is still pretty early (e.g. some devices will ship with Android 6.0, but the latest version is 7.0), and so you may be running an older'"
      ]
     },
     "execution_count": 7,
     "metadata": {},
     "output_type": "execute_result"
    }
   ],
   "source": [
    "a[idx_model_start : idx_model_end]"
   ]
  },
  {
   "cell_type": "code",
   "execution_count": 12,
   "metadata": {},
   "outputs": [
    {
     "data": {
      "text/plain": [
       "'<bos><start_of_turn>user\\nWhich OS is more user friendly, android or Mac?<end_of_turn>\\n<start_of_turn>model\\nApple’s OS is relatively simple to use, and I find it a pleasure to work with.  It’s also a closed system, which means everything you install or download is curated by Apple to ensure it’s safe.  The downside is that you’re stuck with the company’s choices for you, but at the same time they provide a good, reliable experience for their users.\\n\\nApple devices also tend to be built well, and have a reputation for being sturdy.  Likewise, there are fewer issues with compatibility or stability across Apple devices.\\n\\nAndroid, on the other hand, can be a little confusing at first, and it has a large, open ecosystem where anyone can develop apps and software for the platform.  This allows more flexibility, but also introduces the potential for uncertainty -- any particular Android device may or may not have the latest software installed, and it may not be clear exactly what you’re getting when you purchase it.  The security situation is also more uncertain -- at the moment, many Android devices are shipping with software that is still pretty early (e.g. some devices will ship with Android 6.0, but the latest version is 7.0), and so you may be running an older<end_of_turn>\\n'"
      ]
     },
     "execution_count": 12,
     "metadata": {},
     "output_type": "execute_result"
    }
   ],
   "source": [
    "a"
   ]
  },
  {
   "cell_type": "code",
   "execution_count": 14,
   "metadata": {},
   "outputs": [
    {
     "data": {
      "text/plain": [
       "21"
      ]
     },
     "execution_count": 14,
     "metadata": {},
     "output_type": "execute_result"
    }
   ],
   "source": [
    "len('<start_of_turn>model\\n')"
   ]
  },
  {
   "cell_type": "code",
   "execution_count": 35,
   "metadata": {},
   "outputs": [
    {
     "name": "stderr",
     "output_type": "stream",
     "text": [
      "/home/t-dasnirjhar/anaconda3/envs/trl/lib/python3.12/site-packages/huggingface_hub/file_download.py:1132: FutureWarning: `resume_download` is deprecated and will be removed in version 1.0.0. Downloads always resume when possible. If you want to force a new download, use `force_download=True`.\n",
      "  warnings.warn(\n"
     ]
    }
   ],
   "source": [
    "tokenizer_gemma = AutoTokenizer.from_pretrained('google/gemma-2b-it', add_bos_token=False)\n",
    "tokenizer_gemma.pad_token_id = tokenizer_gemma.eos_token_id\n",
    "tokenizer_gemma.padding_side = 'right'\n",
    "p = tokenizer_gemma.encode(a, padding=\"max_length\", max_length=500, truncation=True)"
   ]
  },
  {
   "cell_type": "code",
   "execution_count": 36,
   "metadata": {},
   "outputs": [
    {
     "data": {
      "text/plain": [
       "'<bos><start_of_turn>user\\nWhich OS is more user friendly, android or Mac?<end_of_turn>\\n<start_of_turn>model\\nApple’s OS is relatively simple to use, and I find it a pleasure to work with.  It’s also a closed system, which means everything you install or download is curated by Apple to ensure it’s safe.  The downside is that you’re stuck with the company’s choices for you, but at the same time they provide a good, reliable experience for their users.\\n\\nApple devices also tend to be built well, and have a reputation for being sturdy.  Likewise, there are fewer issues with compatibility or stability across Apple devices.\\n\\nAndroid, on the other hand, can be a little confusing at first, and it has a large, open ecosystem where anyone can develop apps and software for the platform.  This allows more flexibility, but also introduces the potential for uncertainty -- any particular Android device may or may not have the latest software installed, and it may not be clear exactly what you’re getting when you purchase it.  The security situation is also more uncertain -- at the moment, many Android devices are shipping with software that is still pretty early (e.g. some devices will ship with Android 6.0, but the latest version is 7.0), and so you may be running an older<end_of_turn>\\n<eos><eos><eos><eos><eos><eos><eos><eos><eos><eos><eos><eos><eos><eos><eos><eos><eos><eos><eos><eos><eos><eos><eos><eos><eos><eos><eos><eos><eos><eos><eos><eos><eos><eos><eos><eos><eos><eos><eos><eos><eos><eos><eos><eos><eos><eos><eos><eos><eos><eos><eos><eos><eos><eos><eos><eos><eos><eos><eos><eos><eos><eos><eos><eos><eos><eos><eos><eos><eos><eos><eos><eos><eos><eos><eos><eos><eos><eos><eos><eos><eos><eos><eos><eos><eos><eos><eos><eos><eos><eos><eos><eos><eos><eos><eos><eos><eos><eos><eos><eos><eos><eos><eos><eos><eos><eos><eos><eos><eos><eos><eos><eos><eos><eos><eos><eos><eos><eos><eos><eos><eos><eos><eos><eos><eos><eos><eos><eos><eos><eos><eos><eos><eos><eos><eos><eos><eos><eos><eos><eos><eos><eos><eos><eos><eos><eos><eos><eos><eos><eos><eos><eos><eos><eos><eos><eos><eos><eos><eos><eos><eos><eos><eos><eos><eos><eos><eos><eos><eos><eos><eos><eos><eos><eos><eos><eos><eos><eos><eos><eos><eos><eos><eos><eos><eos><eos><eos><eos><eos><eos><eos><eos><eos><eos><eos><eos><eos><eos><eos><eos><eos><eos><eos><eos><eos><eos><eos><eos><eos><eos><eos><eos><eos><eos><eos><eos><eos><eos><eos><eos><eos><eos><eos><eos><eos>'"
      ]
     },
     "execution_count": 36,
     "metadata": {},
     "output_type": "execute_result"
    }
   ],
   "source": [
    "tokenizer_gemma.decode(p)"
   ]
  },
  {
   "cell_type": "markdown",
   "metadata": {},
   "source": [
    "#### Embedding extraction"
   ]
  },
  {
   "cell_type": "code",
   "execution_count": 3,
   "metadata": {},
   "outputs": [],
   "source": [
    "model_name = 'Gemma'\n",
    "dataset_name = 'Anthropic'\n",
    "output_folder = './output'\n",
    "small = True"
   ]
  },
  {
   "cell_type": "code",
   "execution_count": 3,
   "metadata": {},
   "outputs": [
    {
     "name": "stderr",
     "output_type": "stream",
     "text": [
      "/home/t-dasnirjhar/anaconda3/envs/trl/lib/python3.12/site-packages/huggingface_hub/file_download.py:1132: FutureWarning: `resume_download` is deprecated and will be removed in version 1.0.0. Downloads always resume when possible. If you want to force a new download, use `force_download=True`.\n",
      "  warnings.warn(\n",
      "Gemma's activation function should be approximate GeLU and not exact GeLU.\n",
      "Changing the activation function to `gelu_pytorch_tanh`.if you want to use the legacy `gelu`, edit the `model.config` to set `hidden_activation=gelu`   instead of `hidden_act`. See https://github.com/huggingface/transformers/pull/29402 for more details.\n"
     ]
    },
    {
     "name": "stderr",
     "output_type": "stream",
     "text": [
      "Loading checkpoint shards: 100%|██████████| 2/2 [00:01<00:00,  1.61it/s]\n",
      "Some weights of GemmaForSequenceClassification were not initialized from the model checkpoint at google/gemma-2b-it and are newly initialized: ['score.weight']\n",
      "You should probably TRAIN this model on a down-stream task to be able to use it for predictions and inference.\n",
      "100%|██████████| 32/32 [07:50<00:00, 14.71s/it]\n"
     ]
    }
   ],
   "source": [
    "model, tokenizer = create_model_and_tokenizer(model_name)\n",
    "text_chosen, text_rejected, n = get_dataset_for_rlhf(dataset_name, small)\n",
    "\n",
    "save_embeddings(model, tokenizer, dataset_name, model_name, text_chosen, text_rejected, n, output_folder, small)\n",
    "\n",
    "del model\n",
    "del tokenizer\n",
    "del text_chosen\n",
    "del text_rejected"
   ]
  },
  {
   "cell_type": "code",
   "execution_count": 4,
   "metadata": {},
   "outputs": [
    {
     "name": "stderr",
     "output_type": "stream",
     "text": [
      "/home/t-dasnirjhar/anaconda3/envs/trl/lib/python3.12/site-packages/huggingface_hub/file_download.py:1132: FutureWarning: `resume_download` is deprecated and will be removed in version 1.0.0. Downloads always resume when possible. If you want to force a new download, use `force_download=True`.\n",
      "  warnings.warn(\n",
      "Gemma's activation function should be approximate GeLU and not exact GeLU.\n",
      "Changing the activation function to `gelu_pytorch_tanh`.if you want to use the legacy `gelu`, edit the `model.config` to set `hidden_activation=gelu`   instead of `hidden_act`. See https://github.com/huggingface/transformers/pull/29402 for more details.\n"
     ]
    },
    {
     "name": "stderr",
     "output_type": "stream",
     "text": [
      "Loading checkpoint shards: 100%|██████████| 2/2 [00:01<00:00,  1.62it/s]\n",
      "Some weights of GemmaForSequenceClassification were not initialized from the model checkpoint at google/gemma-2b-it and are newly initialized: ['score.weight']\n",
      "You should probably TRAIN this model on a down-stream task to be able to use it for predictions and inference.\n",
      "100%|██████████| 8/8 [02:03<00:00, 15.38s/it]\n"
     ]
    }
   ],
   "source": [
    "model, tokenizer = create_model_and_tokenizer(model_name)\n",
    "text_chosen, text_rejected, n = get_dataset_for_rlhf(dataset_name, small, 'test')\n",
    "\n",
    "save_embeddings(model, tokenizer, dataset_name, model_name, text_chosen, text_rejected, n, output_folder, small, 'test')\n",
    "\n",
    "del model\n",
    "del tokenizer\n",
    "del text_chosen\n",
    "del text_rejected"
   ]
  },
  {
   "cell_type": "code",
   "execution_count": null,
   "metadata": {},
   "outputs": [],
   "source": []
  },
  {
   "cell_type": "code",
   "execution_count": null,
   "metadata": {},
   "outputs": [],
   "source": []
  }
 ],
 "metadata": {
  "kernelspec": {
   "display_name": "trl",
   "language": "python",
   "name": "python3"
  },
  "language_info": {
   "codemirror_mode": {
    "name": "ipython",
    "version": 3
   },
   "file_extension": ".py",
   "mimetype": "text/x-python",
   "name": "python",
   "nbconvert_exporter": "python",
   "pygments_lexer": "ipython3",
   "version": "3.12.3"
  }
 },
 "nbformat": 4,
 "nbformat_minor": 2
}
