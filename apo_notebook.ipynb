{
 "cells": [
  {
   "cell_type": "code",
   "execution_count": 1,
   "metadata": {},
   "outputs": [
    {
     "name": "stderr",
     "output_type": "stream",
     "text": [
      "/home/t-dasnirjhar/anaconda3/envs/trl/lib/python3.12/site-packages/tqdm/auto.py:21: TqdmWarning: IProgress not found. Please update jupyter and ipywidgets. See https://ipywidgets.readthedocs.io/en/stable/user_install.html\n",
      "  from .autonotebook import tqdm as notebook_tqdm\n"
     ]
    }
   ],
   "source": [
    "from scripts.reward_learning import reward_learning\n",
    "from scripts.reward_evaluation import get_accuracy\n",
    "from scripts.ppo_model_training import get_dataset_iterator, prepare_model_for_PPO, prepare_reward_model_for_PPO, prepare_PPO_config, prepare_PPO_trainer, train_model\n",
    "from scripts.model_evaluation import load_true_reward_model, load_model_and_tokenizer,  generate_response_from_model, evaluate_responses"
   ]
  },
  {
   "cell_type": "markdown",
   "metadata": {},
   "source": [
    "## Anthropic + Gemma"
   ]
  },
  {
   "cell_type": "markdown",
   "metadata": {},
   "source": [
    "### Anthropic + Gemma : Small Epochs"
   ]
  },
  {
   "cell_type": "code",
   "execution_count": 2,
   "metadata": {},
   "outputs": [],
   "source": [
    "model_name = 'Gemma'\n",
    "dataset_name = 'Anthropic'\n",
    "output_folder = './output'\n",
    "small = True\n",
    "info = 'le' # identifier for small epoch"
   ]
  },
  {
   "cell_type": "code",
   "execution_count": 3,
   "metadata": {},
   "outputs": [],
   "source": [
    "samples_per_epoch = 100\n",
    "epochs = 20\n",
    "id_apo = 'apo'"
   ]
  },
  {
   "cell_type": "code",
   "execution_count": 4,
   "metadata": {},
   "outputs": [
    {
     "name": "stderr",
     "output_type": "stream",
     "text": [
      "100%|██████████| 20/20 [00:02<00:00,  7.62it/s]\n"
     ]
    },
    {
     "name": "stdout",
     "output_type": "stream",
     "text": [
      "--------------------------------------------------\n",
      "apo accuracy: 94.55%\n"
     ]
    }
   ],
   "source": [
    "reward_learning(dataset_name, model_name, samples_per_epoch, epochs, output_folder, id_apo, small, info)\n",
    "\n",
    "print('-'*50)\n",
    "get_accuracy(model_name, dataset_name, output_folder, small, id_apo, info)\n"
   ]
  },
  {
   "cell_type": "code",
   "execution_count": 4,
   "metadata": {},
   "outputs": [],
   "source": [
    "samples_per_epoch = 100\n",
    "epochs = 20\n",
    "id_rand = 'random'"
   ]
  },
  {
   "cell_type": "code",
   "execution_count": 6,
   "metadata": {},
   "outputs": [
    {
     "name": "stderr",
     "output_type": "stream",
     "text": [
      "100%|██████████| 20/20 [00:01<00:00, 19.44it/s]\n"
     ]
    },
    {
     "name": "stdout",
     "output_type": "stream",
     "text": [
      "--------------------------------------------------\n",
      "random accuracy: 83.0%\n"
     ]
    }
   ],
   "source": [
    "reward_learning(dataset_name, model_name, samples_per_epoch, epochs, output_folder, id_rand, small, info)\n",
    "\n",
    "print('-'*50)\n",
    "get_accuracy(model_name, dataset_name, output_folder, small, id_rand, info)"
   ]
  },
  {
   "cell_type": "code",
   "execution_count": 5,
   "metadata": {},
   "outputs": [
    {
     "name": "stderr",
     "output_type": "stream",
     "text": [
      "/home/t-dasnirjhar/anaconda3/envs/trl/lib/python3.12/site-packages/huggingface_hub/file_download.py:1132: FutureWarning: `resume_download` is deprecated and will be removed in version 1.0.0. Downloads always resume when possible. If you want to force a new download, use `force_download=True`.\n",
      "  warnings.warn(\n",
      "Map: 100%|██████████| 8000/8000 [00:02<00:00, 3963.97 examples/s]\n",
      "/home/t-dasnirjhar/anaconda3/envs/trl/lib/python3.12/site-packages/huggingface_hub/file_download.py:1132: FutureWarning: `resume_download` is deprecated and will be removed in version 1.0.0. Downloads always resume when possible. If you want to force a new download, use `force_download=True`.\n",
      "  warnings.warn(\n",
      "Gemma's activation function should be approximate GeLU and not exact GeLU.\n",
      "Changing the activation function to `gelu_pytorch_tanh`.if you want to use the legacy `gelu`, edit the `model.config` to set `hidden_activation=gelu`   instead of `hidden_act`. See https://github.com/huggingface/transformers/pull/29402 for more details.\n",
      "Loading checkpoint shards: 100%|██████████| 2/2 [00:01<00:00,  1.63it/s]\n",
      "WARNING:root:A <class 'peft.peft_model.PeftModelForCausalLM'> model is loaded from 'google/gemma-2b-it', and no v_head weight is found. This IS expected if you are not resuming PPO training.\n",
      "Loading checkpoint shards: 100%|██████████| 2/2 [00:01<00:00,  1.67it/s]\n",
      "Some weights of GemmaForSequenceClassification were not initialized from the model checkpoint at google/gemma-2b-it and are newly initialized: ['score.weight']\n",
      "You should probably TRAIN this model on a down-stream task to be able to use it for predictions and inference.\n",
      "20it [1:08:59, 206.95s/it]\n"
     ]
    },
    {
     "name": "stdout",
     "output_type": "stream",
     "text": [
      "Done!!!\n"
     ]
    }
   ],
   "source": [
    "ds = get_dataset_iterator(dataset_name, model_name)\n",
    "model_apo, tokenizer = prepare_model_for_PPO(model_name)\n",
    "reward_model_apo, rm_tokenizer_apo = prepare_reward_model_for_PPO(model_name, dataset_name, output_folder, id_apo, info)\n",
    "ppo_config = prepare_PPO_config(model_name)\n",
    "ppo_trainer_apo, gen_kwargs = prepare_PPO_trainer(ppo_config, model_apo, tokenizer, ds)\n",
    "train_model(ppo_trainer_apo, gen_kwargs, tokenizer, reward_model_apo, rm_tokenizer_apo, output_folder, model_name, dataset_name, id_apo, max_iter=20, small=small, info=info)\n",
    "\n",
    "\n",
    "# Free up GPU\n",
    "\n",
    "del model_apo\n",
    "del tokenizer\n",
    "del reward_model_apo\n",
    "del rm_tokenizer_apo\n",
    "del ppo_config\n",
    "del ppo_trainer_apo\n",
    "del gen_kwargs"
   ]
  },
  {
   "cell_type": "code",
   "execution_count": 6,
   "metadata": {},
   "outputs": [
    {
     "name": "stderr",
     "output_type": "stream",
     "text": [
      "/home/t-dasnirjhar/anaconda3/envs/trl/lib/python3.12/site-packages/huggingface_hub/file_download.py:1132: FutureWarning: `resume_download` is deprecated and will be removed in version 1.0.0. Downloads always resume when possible. If you want to force a new download, use `force_download=True`.\n",
      "  warnings.warn(\n",
      "Map: 100%|██████████| 8000/8000 [00:01<00:00, 4052.22 examples/s]\n",
      "Loading checkpoint shards: 100%|██████████| 2/2 [00:02<00:00,  1.25s/it]\n",
      "WARNING:root:A <class 'peft.peft_model.PeftModelForCausalLM'> model is loaded from 'google/gemma-2b-it', and no v_head weight is found. This IS expected if you are not resuming PPO training.\n",
      "Loading checkpoint shards: 100%|██████████| 2/2 [00:01<00:00,  1.70it/s]\n",
      "Some weights of GemmaForSequenceClassification were not initialized from the model checkpoint at google/gemma-2b-it and are newly initialized: ['score.weight']\n",
      "You should probably TRAIN this model on a down-stream task to be able to use it for predictions and inference.\n",
      "1it [03:02, 182.16s/it]/home/t-dasnirjhar/anaconda3/envs/trl/lib/python3.12/site-packages/trl/trainer/ppo_trainer.py:1289: UserWarning: KL divergence is starting to become negative: -2.45 - this might be a precursor for failed training. sometimes this happens because the generation kwargs are not correctly set. Please make sure that the generation kwargs are set correctly, or review your training hyperparameters.\n",
      "  warnings.warn(\n",
      "2it [05:57, 178.44s/it]/home/t-dasnirjhar/anaconda3/envs/trl/lib/python3.12/site-packages/trl/trainer/ppo_trainer.py:1289: UserWarning: KL divergence is starting to become negative: -5.92 - this might be a precursor for failed training. sometimes this happens because the generation kwargs are not correctly set. Please make sure that the generation kwargs are set correctly, or review your training hyperparameters.\n",
      "  warnings.warn(\n",
      "3it [10:40, 225.78s/it]/home/t-dasnirjhar/anaconda3/envs/trl/lib/python3.12/site-packages/trl/trainer/ppo_trainer.py:1289: UserWarning: KL divergence is starting to become negative: -2.49 - this might be a precursor for failed training. sometimes this happens because the generation kwargs are not correctly set. Please make sure that the generation kwargs are set correctly, or review your training hyperparameters.\n",
      "  warnings.warn(\n",
      "4it [13:31, 204.20s/it]/home/t-dasnirjhar/anaconda3/envs/trl/lib/python3.12/site-packages/trl/trainer/ppo_trainer.py:1289: UserWarning: KL divergence is starting to become negative: -2.80 - this might be a precursor for failed training. sometimes this happens because the generation kwargs are not correctly set. Please make sure that the generation kwargs are set correctly, or review your training hyperparameters.\n",
      "  warnings.warn(\n",
      "5it [17:14, 211.04s/it]/home/t-dasnirjhar/anaconda3/envs/trl/lib/python3.12/site-packages/trl/trainer/ppo_trainer.py:1289: UserWarning: KL divergence is starting to become negative: -4.99 - this might be a precursor for failed training. sometimes this happens because the generation kwargs are not correctly set. Please make sure that the generation kwargs are set correctly, or review your training hyperparameters.\n",
      "  warnings.warn(\n",
      "6it [20:56, 214.89s/it]/home/t-dasnirjhar/anaconda3/envs/trl/lib/python3.12/site-packages/trl/trainer/ppo_trainer.py:1289: UserWarning: KL divergence is starting to become negative: -2.96 - this might be a precursor for failed training. sometimes this happens because the generation kwargs are not correctly set. Please make sure that the generation kwargs are set correctly, or review your training hyperparameters.\n",
      "  warnings.warn(\n",
      "20it [1:05:08, 195.45s/it]\n"
     ]
    },
    {
     "name": "stdout",
     "output_type": "stream",
     "text": [
      "Done!!!\n"
     ]
    }
   ],
   "source": [
    "ds = get_dataset_iterator(dataset_name, model_name)\n",
    "model_rand, tokenizer = prepare_model_for_PPO(model_name)\n",
    "reward_model_rand, rm_tokenizer_rand = prepare_reward_model_for_PPO(model_name, dataset_name, output_folder, id_rand, info)\n",
    "ppo_config = prepare_PPO_config(model_name)\n",
    "ppo_trainer_rand, gen_kwargs = prepare_PPO_trainer(ppo_config, model_rand, tokenizer, ds)\n",
    "train_model(ppo_trainer_rand, gen_kwargs, tokenizer, reward_model_rand, rm_tokenizer_rand, output_folder, model_name, dataset_name, id_rand, max_iter=20, small=small, info=info)\n",
    "\n",
    "# Free up GPU\n",
    "del model_rand\n",
    "del tokenizer\n",
    "del reward_model_rand\n",
    "del rm_tokenizer_rand\n",
    "del ppo_config\n",
    "del ppo_trainer_rand\n",
    "del gen_kwargs"
   ]
  },
  {
   "cell_type": "code",
   "execution_count": null,
   "metadata": {},
   "outputs": [],
   "source": [
    "model, tokenizer = load_model_and_tokenizer(model_name, dataset_name, output_path=output_folder, id='apo', small=small, info=info)\n",
    "\n",
    "generate_response_from_model(model, tokenizer, dataset_name, model_name, 'apo', output_folder, small, 500, info)\n",
    "\n",
    "del model\n",
    "del tokenizer"
   ]
  },
  {
   "cell_type": "code",
   "execution_count": null,
   "metadata": {},
   "outputs": [],
   "source": [
    "\n",
    "reward_processor = load_true_reward_model(model_name, dataset_name)\n",
    "evaluate_responses(reward_processor, dataset_name, model_name, 'apo', output_folder, small, info)"
   ]
  },
  {
   "cell_type": "code",
   "execution_count": null,
   "metadata": {},
   "outputs": [],
   "source": [
    "model, tokenizer = load_model_and_tokenizer(model_name, dataset_name, output_path=output_folder, id='random', small=small, info=info)\n",
    "\n",
    "generate_response_from_model(model, tokenizer, dataset_name, model_name, 'random', output_folder, small, 500, info)\n",
    "\n",
    "del model\n",
    "del tokenizer\n"
   ]
  },
  {
   "cell_type": "code",
   "execution_count": null,
   "metadata": {},
   "outputs": [],
   "source": [
    "\n",
    "reward_processor = load_true_reward_model(model_name, dataset_name)\n",
    "evaluate_responses(reward_processor, dataset_name, model_name, 'random', output_folder, small, info)"
   ]
  },
  {
   "cell_type": "markdown",
   "metadata": {},
   "source": [
    "### Extra Evaluation Code"
   ]
  },
  {
   "cell_type": "code",
   "execution_count": 32,
   "metadata": {},
   "outputs": [
    {
     "name": "stderr",
     "output_type": "stream",
     "text": [
      "/home/t-dasnirjhar/anaconda3/envs/trl/lib/python3.12/site-packages/huggingface_hub/file_download.py:1132: FutureWarning: `resume_download` is deprecated and will be removed in version 1.0.0. Downloads always resume when possible. If you want to force a new download, use `force_download=True`.\n",
      "  warnings.warn(\n"
     ]
    }
   ],
   "source": [
    "import pandas as pd\n",
    "import torch\n",
    "from transformers import AutoTokenizer, BitsAndBytesConfig\n",
    "from trl import AutoModelForCausalLMWithValueHead\n",
    "df = pd.read_csv('./datasets/anthropic_hard_8k_test.csv.gz', compression='gzip')\n",
    "tokenizer = AutoTokenizer.from_pretrained('google/gemma-2b-it', add_bos_token=False)\n",
    "query_tensors = tokenizer(list(df['query']))"
   ]
  },
  {
   "cell_type": "code",
   "execution_count": 33,
   "metadata": {},
   "outputs": [],
   "source": [
    "bnb_config = BitsAndBytesConfig(\n",
    "                        load_in_4bit=True,\n",
    "                        bnb_4bit_quant_type=\"nf4\",\n",
    "                        bnb_4bit_use_double_quant=True,\n",
    "                        bnb_4bit_compute_dtype=torch.bfloat16\n",
    "                    )"
   ]
  },
  {
   "cell_type": "code",
   "execution_count": 34,
   "metadata": {},
   "outputs": [
    {
     "name": "stderr",
     "output_type": "stream",
     "text": [
      "Loading checkpoint shards:   0%|          | 0/2 [00:00<?, ?it/s]"
     ]
    },
    {
     "name": "stderr",
     "output_type": "stream",
     "text": [
      "Loading checkpoint shards: 100%|██████████| 2/2 [00:02<00:00,  1.08s/it]\n"
     ]
    }
   ],
   "source": [
    "model = AutoModelForCausalLMWithValueHead.from_pretrained('./output/Anthropic_small_Gemma_final_model_apo_le', use_safetensors=True,\n",
    "                        quantization_config=bnb_config,\n",
    "                        device_map=\"auto\",\n",
    "                        low_cpu_mem_usage=True)"
   ]
  },
  {
   "cell_type": "code",
   "execution_count": 35,
   "metadata": {},
   "outputs": [],
   "source": [
    "gen_kwargs = {\n",
    "                            \"min_length\": -1,\n",
    "                            \"top_k\": 0.0,\n",
    "                            \"top_p\": 1.0,\n",
    "                            \"do_sample\": True,\n",
    "                            \"pad_token_id\": tokenizer.eos_token_id,\n",
    "                            \"max_length\" : 500\n",
    "                        }"
   ]
  },
  {
   "cell_type": "code",
   "execution_count": null,
   "metadata": {},
   "outputs": [],
   "source": []
  },
  {
   "cell_type": "code",
   "execution_count": null,
   "metadata": {},
   "outputs": [],
   "source": []
  },
  {
   "cell_type": "code",
   "execution_count": 14,
   "metadata": {},
   "outputs": [],
   "source": [
    "import os\n",
    "from tqdm import tqdm\n",
    "import pandas as pd\n",
    "def evaluate_chosen_responses(reward_processor, dataset_name, model_name, model_id, output_path, small=True, info=''):\n",
    "    if small:\n",
    "        # df = pd.read_csv('./output/Anthropic_small_Gemma_sft_le_result.csv')\n",
    "        df = pd.read_csv('./datasets/anthropic_hard_8k_test.csv.gz', compression='gzip')\n",
    "    else:\n",
    "        df = pd.read_csv(os.path.join(output_path, f'{dataset_name}_{model_name}_{model_id}_{info}_result.csv'))\n",
    "\n",
    "    if model_name == 'GPT2':\n",
    "        sent_kwargs = {\"return_all_scores\": True, \"function_to_apply\": \"none\", \"batch_size\": 16}\n",
    "        #### reward obtained for query/response pairs for model\n",
    "        df[\"reward\"] = reward_processor(df[\"prompt\"], df[\"response\"], sent_kwargs)\n",
    "\n",
    "    elif model_name == 'Gemma':\n",
    "        arr = []\n",
    "        data = {'reward' : [], 'chat_format' : []}\n",
    "        for res in tqdm(df['chosen'].iloc[500:1000]):\n",
    "            idx_user_start = res.find('<start_of_turn>user\\n') + len('<start_of_turn>user\\n')\n",
    "            idx_user_end = res.find('<end_of_turn>\\n')\n",
    "            idx_model_start = res.find('<start_of_turn>model\\n') + len('<start_of_turn>model\\n')\n",
    "            # idx_model_end = res.rfind('<eos>')\n",
    "            idx_model_end = res.rfind('<end_of_turn>\\n')\n",
    "            arr.append([{'role' : 'user', 'content' : res[idx_user_start : idx_user_end]},\n",
    "                        {'role' : 'assistant', 'content' : res[idx_model_start : idx_model_end]}])\n",
    "        sent_kwargs = {\"padding\": 'max_length', \"truncation\": True, \"return_tensors\": \"pt\", 'max_length': 1500}\n",
    "        #### reward obtained for query/response pairs for model\n",
    "        data[\"reward\"], data['chat_format'] = reward_processor(df[\"query\"], arr, sent_kwargs)\n",
    "        df.drop(columns=['rejected', 'chosen'], inplace=True)\n",
    "        df_res = pd.DataFrame(data)\n",
    "    \n",
    "\n",
    "    # store results in a dataframe\n",
    "    if small:\n",
    "        df_res.to_csv(os.path.join(output_path, f'{dataset_name}_small_{model_name}_chosen_{info}_reward_2.csv'), index=False)\n",
    "    else:\n",
    "        df_res.to_csv(os.path.join(output_path, f'{dataset_name}_{model_name}_chosen_{info}_reward_2.csv'), index=False)\n",
    "\n"
   ]
  },
  {
   "cell_type": "code",
   "execution_count": 15,
   "metadata": {},
   "outputs": [
    {
     "name": "stderr",
     "output_type": "stream",
     "text": [
      "/home/t-dasnirjhar/anaconda3/envs/trl/lib/python3.12/site-packages/huggingface_hub/file_download.py:1132: FutureWarning: `resume_download` is deprecated and will be removed in version 1.0.0. Downloads always resume when possible. If you want to force a new download, use `force_download=True`.\n",
      "  warnings.warn(\n"
     ]
    },
    {
     "name": "stderr",
     "output_type": "stream",
     "text": [
      "Loading checkpoint shards: 100%|██████████| 3/3 [00:03<00:00,  1.13s/it]\n",
      "100%|██████████| 500/500 [00:00<00:00, 414702.79it/s]\n"
     ]
    },
    {
     "name": "stdout",
     "output_type": "stream",
     "text": [
      "Processing coversations...\n"
     ]
    },
    {
     "name": "stderr",
     "output_type": "stream",
     "text": [
      "100%|██████████| 500/500 [00:00<00:00, 40166.09it/s]\n"
     ]
    },
    {
     "name": "stdout",
     "output_type": "stream",
     "text": [
      "Done!\n"
     ]
    },
    {
     "name": "stderr",
     "output_type": "stream",
     "text": [
      "100%|██████████| 8/8 [01:14<00:00,  9.31s/it]\n"
     ]
    }
   ],
   "source": [
    "reward_processor = load_true_reward_model('Gemma', 'Anthropic')\n",
    "evaluate_chosen_responses(reward_processor, 'Anthropic', 'Gemma', 'chosen', './output', True, 'le')"
   ]
  },
  {
   "cell_type": "code",
   "execution_count": 2,
   "metadata": {},
   "outputs": [
    {
     "name": "stderr",
     "output_type": "stream",
     "text": [
      "/home/t-dasnirjhar/anaconda3/envs/trl/lib/python3.12/site-packages/huggingface_hub/file_download.py:1132: FutureWarning: `resume_download` is deprecated and will be removed in version 1.0.0. Downloads always resume when possible. If you want to force a new download, use `force_download=True`.\n",
      "  warnings.warn(\n",
      "You set `add_prefix_space`. The tokenizer needs to be converted from the slow tokenizers\n",
      "Loading checkpoint shards: 100%|██████████| 3/3 [00:02<00:00,  1.15it/s]\n"
     ]
    }
   ],
   "source": [
    "reward_processor = load_true_reward_model('Gemma', 'Anthropic')"
   ]
  },
  {
   "cell_type": "code",
   "execution_count": 3,
   "metadata": {},
   "outputs": [
    {
     "name": "stderr",
     "output_type": "stream",
     "text": [
      "100%|██████████| 500/500 [00:00<00:00, 547416.34it/s]\n"
     ]
    },
    {
     "name": "stdout",
     "output_type": "stream",
     "text": [
      "Processing coversations...\n"
     ]
    },
    {
     "name": "stderr",
     "output_type": "stream",
     "text": [
      "100%|██████████| 500/500 [00:00<00:00, 16483.16it/s]\n"
     ]
    },
    {
     "name": "stdout",
     "output_type": "stream",
     "text": [
      "Done!\n"
     ]
    },
    {
     "name": "stderr",
     "output_type": "stream",
     "text": [
      "100%|██████████| 8/8 [01:14<00:00,  9.28s/it]\n"
     ]
    }
   ],
   "source": [
    "evaluate_responses(reward_processor, 'Anthropic', 'Gemma', 'apo', './output', True, 'le')"
   ]
  },
  {
   "cell_type": "code",
   "execution_count": 4,
   "metadata": {},
   "outputs": [
    {
     "name": "stderr",
     "output_type": "stream",
     "text": [
      "100%|██████████| 500/500 [00:00<00:00, 430538.29it/s]\n"
     ]
    },
    {
     "name": "stdout",
     "output_type": "stream",
     "text": [
      "Processing coversations...\n"
     ]
    },
    {
     "name": "stderr",
     "output_type": "stream",
     "text": [
      "100%|██████████| 500/500 [00:00<00:00, 52197.82it/s]\n"
     ]
    },
    {
     "name": "stdout",
     "output_type": "stream",
     "text": [
      "Done!\n"
     ]
    },
    {
     "name": "stderr",
     "output_type": "stream",
     "text": [
      "100%|██████████| 8/8 [01:15<00:00,  9.48s/it]\n"
     ]
    }
   ],
   "source": [
    "evaluate_responses(reward_processor, 'Anthropic', 'Gemma', 'random', './output', True, 'le')"
   ]
  },
  {
   "cell_type": "code",
   "execution_count": 5,
   "metadata": {},
   "outputs": [
    {
     "name": "stdout",
     "output_type": "stream",
     "text": [
      "apo accuracy: 94.55%\n"
     ]
    }
   ],
   "source": [
    "get_accuracy('Gemma', 'Anthropic', './output', small=True, id='apo', info='le')"
   ]
  },
  {
   "cell_type": "code",
   "execution_count": 6,
   "metadata": {},
   "outputs": [
    {
     "name": "stdout",
     "output_type": "stream",
     "text": [
      "random accuracy: 83.0%\n"
     ]
    }
   ],
   "source": [
    "get_accuracy('Gemma', 'Anthropic', './output', small=True, id='random', info='le')"
   ]
  },
  {
   "cell_type": "code",
   "execution_count": null,
   "metadata": {},
   "outputs": [],
   "source": []
  }
 ],
 "metadata": {
  "kernelspec": {
   "display_name": "trl",
   "language": "python",
   "name": "python3"
  },
  "language_info": {
   "codemirror_mode": {
    "name": "ipython",
    "version": 3
   },
   "file_extension": ".py",
   "mimetype": "text/x-python",
   "name": "python",
   "nbconvert_exporter": "python",
   "pygments_lexer": "ipython3",
   "version": "3.12.3"
  }
 },
 "nbformat": 4,
 "nbformat_minor": 2
}
